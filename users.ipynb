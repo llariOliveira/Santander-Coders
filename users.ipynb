{
 "cells": [
  {
   "cell_type": "code",
   "execution_count": 6,
   "metadata": {},
   "outputs": [
    {
     "name": "stdout",
     "output_type": "stream",
     "text": [
      "[['larissa', 'oliveira'], ['gomes', 'maria '], ['maria', 'souza']]\n",
      "['nome', 'sobrenome']\n",
      "['larissa', 'oliveira']\n",
      "['gomes', 'maria ']\n",
      "['maria', 'souza']\n"
     ]
    }
   ],
   "source": [
    "header = ['nome', 'sobrenome']\n",
    "dados = []\n",
    "opt = input('O que deseja fazer?\\n1 - Cadastrar\\n0 - Sair\\n')\n",
    "while opt != '0':\n",
    "    nome = input('Qual seu nome?')\n",
    "    sobrenome = input('Qual seu sobrenome?')\n",
    "    dados.append([nome, sobrenome])\n",
    "    opt = input('O que deseja fazer?\\n1 - Cadastrar\\n0 - Sair\\n')\n",
    "\n",
    "print(dados)\n",
    "\n",
    "\n",
    "import csv\n",
    "\n",
    "with open('users.csv', 'w', newline='') as arquivo_csv:\n",
    "    write = csv.writer(arquivo_csv)\n",
    "    write.writerow(header)\n",
    "    write.writerows(dados)\n",
    "with open('users.csv', 'r') as csv_file:\n",
    "    csv_reader = csv.reader(csv_file, delimiter=',')\n",
    "    for row in csv_reader:\n",
    "        print(row)\n",
    "\n"
   ]
  }
 ],
 "metadata": {
  "kernelspec": {
   "display_name": "Python 3.10.7 64-bit",
   "language": "python",
   "name": "python3"
  },
  "language_info": {
   "codemirror_mode": {
    "name": "ipython",
    "version": 3
   },
   "file_extension": ".py",
   "mimetype": "text/x-python",
   "name": "python",
   "nbconvert_exporter": "python",
   "pygments_lexer": "ipython3",
   "version": "3.10.7"
  },
  "orig_nbformat": 4,
  "vscode": {
   "interpreter": {
    "hash": "85a19943ff549646a07c354910bcbda2ca958a51af4f58f4725162bcf6652865"
   }
  }
 },
 "nbformat": 4,
 "nbformat_minor": 2
}
